{
 "cells": [
  {
   "cell_type": "code",
   "execution_count": 1,
   "id": "45a8577f",
   "metadata": {},
   "outputs": [],
   "source": [
    "class math():\n",
    "    def __init__(self,a,b,c):\n",
    "        self.a=a\n",
    "        self.b=b\n",
    "        self.c=c\n",
    "    def additionmath(self):\n",
    "        print(self.a+self.b+self.c)\n",
    "    def multiplicationmath(self):\n",
    "        print(self.a*self.b*self.c)    "
   ]
  },
  {
   "cell_type": "code",
   "execution_count": 2,
   "id": "57634056",
   "metadata": {},
   "outputs": [
    {
     "name": "stdout",
     "output_type": "stream",
     "text": [
      "1\n",
      "6\n",
      "6\n"
     ]
    }
   ],
   "source": [
    "mathstuff=math(1,2,3)\n",
    "print(mathstuff.a)\n",
    "mathstuff.additionmath()\n",
    "mathstuff.multiplicationmath()"
   ]
  },
  {
   "cell_type": "code",
   "execution_count": null,
   "id": "80aca597",
   "metadata": {},
   "outputs": [],
   "source": []
  }
 ],
 "metadata": {
  "kernelspec": {
   "display_name": "Python 3 (ipykernel)",
   "language": "python",
   "name": "python3"
  },
  "language_info": {
   "codemirror_mode": {
    "name": "ipython",
    "version": 3
   },
   "file_extension": ".py",
   "mimetype": "text/x-python",
   "name": "python",
   "nbconvert_exporter": "python",
   "pygments_lexer": "ipython3",
   "version": "3.9.13"
  }
 },
 "nbformat": 4,
 "nbformat_minor": 5
}
